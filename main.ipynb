{
 "cells": [
  {
   "cell_type": "code",
   "execution_count": 11,
   "metadata": {},
   "outputs": [
    {
     "name": "stdout",
     "output_type": "stream",
     "text": [
      "<mysql.connector.connection.MySQLConnection object at 0x0000027BAF0556D0>\n"
     ]
    }
   ],
   "source": [
    "import mysql.connector\n",
    "my_db = mysql.connector.connect(\n",
    "  host=\"localhost\",\n",
    "  user=\"root\",\n",
    "  password=\"123456\"\n",
    ")\n",
    "print(my_db)"
   ]
  },
  {
   "cell_type": "code",
   "execution_count": 14,
   "metadata": {},
   "outputs": [
    {
     "name": "stdout",
     "output_type": "stream",
     "text": [
      "Database 'DB' created successfully.\n"
     ]
    }
   ],
   "source": [
    "# Creating a cursor object using the cursor() method\n",
    "cursor = my_db.cursor()\n",
    "\n",
    "# SQL statement to create a database\n",
    "create_database_query = \"CREATE DATABASE IF NOT EXISTS DB\"\n",
    "# Executing the SQL command\n",
    "try:\n",
    "    cursor.execute(create_database_query)\n",
    "    print(\"Database 'DB' created successfully.\")\n",
    "except mysql.connector.Error as err:\n",
    "    print(f\"Error: {err}\")"
   ]
  },
  {
   "cell_type": "code",
   "execution_count": 15,
   "metadata": {},
   "outputs": [
    {
     "name": "stdout",
     "output_type": "stream",
     "text": [
      "('db',)\n",
      "('information_schema',)\n",
      "('my_schema',)\n",
      "('mysql',)\n",
      "('new_schema',)\n",
      "('new_schema1',)\n",
      "('performance_schema',)\n",
      "('sys',)\n",
      "('test_schema',)\n"
     ]
    }
   ],
   "source": [
    "# Check if database exists\n",
    "cursor.execute(\"SHOW DATABASES\")\n",
    "\n",
    "for x in cursor:\n",
    "  print(x)"
   ]
  },
  {
   "cell_type": "code",
   "execution_count": 17,
   "metadata": {},
   "outputs": [],
   "source": [
    "# Create table\n",
    "import mysql.connector\n",
    "my_db = mysql.connector.connect(\n",
    "  host=\"localhost\",\n",
    "  user=\"root\",\n",
    "  password=\"123456\",\n",
    "  database=\"DB\"\n",
    ")\n",
    "cursor = my_db.cursor()\n",
    "cursor.execute(\"CREATE TABLE MY_TABLE (name VARCHAR(255), age INT)\")"
   ]
  },
  {
   "cell_type": "code",
   "execution_count": 18,
   "metadata": {},
   "outputs": [
    {
     "name": "stdout",
     "output_type": "stream",
     "text": [
      "('my_table',)\n"
     ]
    }
   ],
   "source": [
    "# show tables\n",
    "cursor.execute(\"SHOW TABLES\")\n",
    "\n",
    "for x in cursor:\n",
    "  print(x)"
   ]
  },
  {
   "cell_type": "code",
   "execution_count": 22,
   "metadata": {},
   "outputs": [
    {
     "name": "stdout",
     "output_type": "stream",
     "text": [
      "Values inserted successfully into my_table.\n"
     ]
    }
   ],
   "source": [
    "# Add values\n",
    "query = \"INSERT INTO my_table VALUES(%s, %s)\"\n",
    "values = [\n",
    "  ('Peter', 1),\n",
    "  ('Amy', 2),\n",
    "  ('Hannah', 3),\n",
    "  ('Michael', 4),\n",
    "  ('Sandy', 5),\n",
    "  ('Betty', 6),\n",
    "  ('Richard', 7),\n",
    "  ('Susan', 8),\n",
    "  ('Vicky', 9),\n",
    "  ('Ben', 10),\n",
    "  ('William', 11),\n",
    "  ('Chuck', 12),\n",
    "  ('Viola', 13)\n",
    "]\n",
    "cursor.executemany(query, values)\n",
    "my_db.commit()  # Don't forget to commit the changes\n",
    "print(\"Values inserted successfully into my_table.\")"
   ]
  },
  {
   "cell_type": "code",
   "execution_count": 33,
   "metadata": {},
   "outputs": [
    {
     "name": "stdout",
     "output_type": "stream",
     "text": [
      "('Samreen', 24)\n",
      "('Samreen', 24)\n",
      "('Peter', 1)\n",
      "('Amy', 2)\n",
      "('Hannah', 3)\n",
      "('Michael', 4)\n",
      "('Sandy', 5)\n",
      "('Betty', 6)\n",
      "('Richard', 7)\n",
      "('Susan', 8)\n",
      "('Vicky', 9)\n",
      "('Ben', 10)\n",
      "('William', 11)\n",
      "('Chuck', 12)\n",
      "('Viola', 13)\n"
     ]
    }
   ],
   "source": [
    "# Run queries\n",
    "import mysql.connector\n",
    "my_db = mysql.connector.connect(\n",
    "  host=\"localhost\",\n",
    "  user=\"root\",\n",
    "  password=\"123456\",\n",
    "  database=\"DB\"\n",
    ")\n",
    "cursor = my_db.cursor()\n",
    "cursor.execute(\"SELECT * FROM my_table\")\n",
    "myresult = cursor.fetchall()\n",
    "\n",
    "for x in myresult:\n",
    "  print(x)"
   ]
  },
  {
   "cell_type": "code",
   "execution_count": 36,
   "metadata": {},
   "outputs": [
    {
     "name": "stdout",
     "output_type": "stream",
     "text": [
      "('Samreen', 24)\n",
      "('Samreen', 24)\n",
      "('Peter', 1)\n",
      "('Amy', 2)\n",
      "('Hannah', 3)\n"
     ]
    }
   ],
   "source": [
    "# Limit the results\n",
    "cursor.execute(\"SELECT * FROM my_table LIMIT 5\")\n",
    "\n",
    "myresult = cursor.fetchall()\n",
    "\n",
    "for x in myresult:\n",
    "  print(x)"
   ]
  }
 ],
 "metadata": {
  "kernelspec": {
   "display_name": "Python 3",
   "language": "python",
   "name": "python3"
  },
  "language_info": {
   "codemirror_mode": {
    "name": "ipython",
    "version": 3
   },
   "file_extension": ".py",
   "mimetype": "text/x-python",
   "name": "python",
   "nbconvert_exporter": "python",
   "pygments_lexer": "ipython3",
   "version": "3.11.9"
  }
 },
 "nbformat": 4,
 "nbformat_minor": 2
}
